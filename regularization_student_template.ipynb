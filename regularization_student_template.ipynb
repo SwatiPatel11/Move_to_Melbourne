{
 "cells": [
  {
   "cell_type": "code",
   "execution_count": 1,
   "metadata": {},
   "outputs": [],
   "source": [
    "#import modules\n",
    "import numpy as np\n",
    "import pandas as pd\n",
    "import seaborn as sns\n",
    "import matplotlib.pyplot as plt\n",
    "from sklearn.model_selection import train_test_split, cross_val_score\n",
    "from sklearn.linear_model import LinearRegression, Lasso, Ridge\n",
    "from sklearn.metrics import r2_score\n",
    "from sklearn.preprocessing import PolynomialFeatures\n",
    "from sklearn.pipeline import make_pipeline\n",
    "import warnings\n",
    "warnings.filterwarnings('ignore')"
   ]
  },
  {
   "cell_type": "markdown",
   "metadata": {},
   "source": [
    "### Load the dataset\n",
    "\n",
    "- Load the train data and using all your knowledge of pandas try to explore the different statistical properties like correlation of the dataset."
   ]
  },
  {
   "cell_type": "code",
   "execution_count": 2,
   "metadata": {},
   "outputs": [
    {
     "name": "stdout",
     "output_type": "stream",
     "text": [
      "     Id  Rooms  Type    Price  Method  SellerG  Distance  Postcode  Bathroom  \\\n",
      "0   124      3     2   995000       1      135       6.3      3143         2   \n",
      "1  5905      2     0  1080000       1      155       2.0      3066         1   \n",
      "2  5963      3     0   725000       1      196      17.9      3082         2   \n",
      "3  3521      4     0  1330000       1      251       8.0      3016         3   \n",
      "4  3738      3     0   620000       1      221      12.4      3060         1   \n",
      "\n",
      "   Car  Landsize  BuildingArea  YearBuilt  CouncilArea  Longtitude  \\\n",
      "0    2         0         100.0       1998           26   145.01600   \n",
      "1    0         0          94.0       1890           31   144.98863   \n",
      "2    2       602         129.0       1980           29   145.06912   \n",
      "3    2       217         266.0       2003           10   144.87960   \n",
      "4    2       604         190.0       1970           23   144.96860   \n",
      "\n",
      "   Regionname  Propertycount  \n",
      "0           5           4836  \n",
      "1           2           4553  \n",
      "2           2          10529  \n",
      "3           6           6380  \n",
      "4           2           5070  \n",
      "The shape of the data is: (4781, 17)\n",
      "Statistical properties of the data is:\n",
      "                Id        Rooms         Type         Price       Method  \\\n",
      "count  4781.000000  4781.000000  4781.000000  4.781000e+03  4781.000000   \n",
      "mean   3432.481908     2.964861     0.540473  1.080936e+06     1.441330   \n",
      "std    1953.488159     0.957911     0.837337  6.757098e+05     1.141898   \n",
      "min       0.000000     1.000000     0.000000  1.450000e+05     0.000000   \n",
      "25%    1757.000000     2.000000     0.000000  6.300000e+05     1.000000   \n",
      "50%    3434.000000     3.000000     0.000000  9.000000e+05     1.000000   \n",
      "75%    5126.000000     4.000000     1.000000  1.337000e+06     1.000000   \n",
      "max    6829.000000     8.000000     2.000000  9.000000e+06     4.000000   \n",
      "\n",
      "           SellerG     Distance     Postcode     Bathroom          Car  \\\n",
      "count  4781.000000  4781.000000  4781.000000  4781.000000  4781.000000   \n",
      "mean    131.485254    10.045367  3103.308931     1.587952     1.605522   \n",
      "std      77.203630     5.871496    87.538064     0.711276     0.946698   \n",
      "min       2.000000     0.000000  3000.000000     1.000000     0.000000   \n",
      "25%      73.000000     6.100000  3044.000000     1.000000     1.000000   \n",
      "50%     135.000000     9.200000  3083.000000     1.000000     2.000000   \n",
      "75%     194.000000    13.000000  3147.000000     2.000000     2.000000   \n",
      "max     267.000000    47.300000  3977.000000     8.000000    10.000000   \n",
      "\n",
      "           Landsize  BuildingArea    YearBuilt  CouncilArea   Longtitude  \\\n",
      "count   4781.000000   4781.000000  4781.000000  4781.000000  4781.000000   \n",
      "mean     480.500105    143.157231  1964.338423    13.609705   144.991934   \n",
      "std      899.489722     91.438501    38.064151    10.389644     0.103051   \n",
      "min        0.000000      0.000000  1196.000000    -1.000000   144.545320   \n",
      "25%      168.000000     94.000000  1940.000000     2.000000   144.927270   \n",
      "50%      411.000000    126.000000  1970.000000    15.000000   144.997500   \n",
      "75%      638.000000    172.000000  2000.000000    23.000000   145.055720   \n",
      "max    37000.000000   3112.000000  2018.000000    32.000000   145.445300   \n",
      "\n",
      "        Regionname  Propertycount  \n",
      "count  4781.000000    4781.000000  \n",
      "mean      3.772223    7477.201213  \n",
      "std       2.024068    4395.746550  \n",
      "min       0.000000     389.000000  \n",
      "25%       2.000000    4380.000000  \n",
      "50%       5.000000    6567.000000  \n",
      "75%       5.000000   10331.000000  \n",
      "max       7.000000   21650.000000  \n",
      "Correlation of the data is:\n",
      "                     Id     Rooms      Type     Price    Method   SellerG  \\\n",
      "Id             1.000000  0.075467 -0.082662 -0.096217  0.015201  0.034281   \n",
      "Rooms          0.075467  1.000000 -0.590817  0.523579 -0.053525 -0.029506   \n",
      "Type          -0.082662 -0.590817  1.000000 -0.426876  0.088308  0.026955   \n",
      "Price         -0.096217  0.523579 -0.426876  1.000000 -0.048165 -0.065393   \n",
      "Method         0.015201 -0.053525  0.088308 -0.048165  1.000000 -0.008889   \n",
      "SellerG        0.034281 -0.029506  0.026955 -0.065393 -0.008889  1.000000   \n",
      "Distance       0.297354  0.289699 -0.242188 -0.158197 -0.064479  0.024476   \n",
      "Postcode       0.075244  0.050753  0.018737  0.120166 -0.034679 -0.001913   \n",
      "Bathroom       0.002907  0.607276 -0.276890  0.493173 -0.013801 -0.034939   \n",
      "Car            0.088199  0.420030 -0.278868  0.237160 -0.019285 -0.000271   \n",
      "Landsize       0.075567  0.092030 -0.043433  0.072753 -0.021601 -0.028470   \n",
      "BuildingArea  -0.017175  0.595395 -0.386768  0.519207 -0.048287 -0.042596   \n",
      "YearBuilt      0.104215 -0.056373  0.304479 -0.297060  0.021274 -0.000680   \n",
      "CouncilArea   -0.194283 -0.207234  0.159736 -0.119382  0.018771 -0.002784   \n",
      "Longtitude     0.017536  0.095944  0.000434  0.217738 -0.059914 -0.061029   \n",
      "Regionname    -0.104060 -0.009092  0.055988  0.083803  0.033184  0.023397   \n",
      "Propertycount  0.020192 -0.106854  0.111803 -0.052399 -0.024244  0.063498   \n",
      "\n",
      "               Distance  Postcode  Bathroom       Car  Landsize  BuildingArea  \\\n",
      "Id             0.297354  0.075244  0.002907  0.088199  0.075567     -0.017175   \n",
      "Rooms          0.289699  0.050753  0.607276  0.420030  0.092030      0.595395   \n",
      "Type          -0.242188  0.018737 -0.276890 -0.278868 -0.043433     -0.386768   \n",
      "Price         -0.158197  0.120166  0.493173  0.237160  0.072753      0.519207   \n",
      "Method        -0.064479 -0.034679 -0.013801 -0.019285 -0.021601     -0.048287   \n",
      "SellerG        0.024476 -0.001913 -0.034939 -0.000271 -0.028470     -0.042596   \n",
      "Distance       1.000000  0.414110  0.114934  0.257264  0.063563      0.145823   \n",
      "Postcode       0.414110  1.000000  0.088003  0.024650  0.030973      0.062701   \n",
      "Bathroom       0.114934  0.088003  1.000000  0.325872  0.080768      0.525465   \n",
      "Car            0.257264  0.024650  0.325872  1.000000  0.112280      0.318675   \n",
      "Landsize       0.063563  0.030973  0.080768  0.112280  1.000000      0.081878   \n",
      "BuildingArea   0.145823  0.062701  0.525465  0.318675  0.081878      1.000000   \n",
      "YearBuilt      0.252163  0.027168  0.162484  0.108676  0.032836      0.014778   \n",
      "CouncilArea   -0.280674 -0.059066 -0.102732 -0.164842 -0.049492     -0.165966   \n",
      "Longtitude     0.210853  0.423931  0.109001  0.048052  0.039890      0.105596   \n",
      "Regionname    -0.089077  0.006935  0.037968  0.005941 -0.012608      0.033615   \n",
      "Propertycount -0.063805  0.058458 -0.058078 -0.032157 -0.019397     -0.071308   \n",
      "\n",
      "               YearBuilt  CouncilArea  Longtitude  Regionname  Propertycount  \n",
      "Id              0.104215    -0.194283    0.017536   -0.104060       0.020192  \n",
      "Rooms          -0.056373    -0.207234    0.095944   -0.009092      -0.106854  \n",
      "Type            0.304479     0.159736    0.000434    0.055988       0.111803  \n",
      "Price          -0.297060    -0.119382    0.217738    0.083803      -0.052399  \n",
      "Method          0.021274     0.018771   -0.059914    0.033184      -0.024244  \n",
      "SellerG        -0.000680    -0.002784   -0.061029    0.023397       0.063498  \n",
      "Distance        0.252163    -0.280674    0.210853   -0.089077      -0.063805  \n",
      "Postcode        0.027168    -0.059066    0.423931    0.006935       0.058458  \n",
      "Bathroom        0.162484    -0.102732    0.109001    0.037968      -0.058078  \n",
      "Car             0.108676    -0.164842    0.048052    0.005941      -0.032157  \n",
      "Landsize        0.032836    -0.049492    0.039890   -0.012608      -0.019397  \n",
      "BuildingArea    0.014778    -0.165966    0.105596    0.033615      -0.071308  \n",
      "YearBuilt       1.000000    -0.065787   -0.009848   -0.014789       0.015524  \n",
      "CouncilArea    -0.065787     1.000000   -0.159771   -0.046359       0.017378  \n",
      "Longtitude     -0.009848    -0.159771    1.000000   -0.480664       0.045455  \n",
      "Regionname     -0.014789    -0.046359   -0.480664    1.000000      -0.141699  \n",
      "Propertycount   0.015524     0.017378    0.045455   -0.141699       1.000000  \n"
     ]
    }
   ],
   "source": [
    "# Code starts here\n",
    "train = pd.read_csv('train.csv')\n",
    "print(train.head(5))\n",
    "print(\"The shape of the data is:\",train.shape)\n",
    "print(\"Statistical properties of the data is:\")\n",
    "print(train.describe())\n",
    "print(\"Correlation of the data is:\")\n",
    "print(train.corr())\n",
    "# Code ends here."
   ]
  },
  {
   "cell_type": "markdown",
   "metadata": {},
   "source": [
    "## Model building\n",
    "\n",
    "- Separate the features and target and then split the train data into train and validation set.\n",
    "- Apply different models of your choice and  then predict on the validation data and find the `accuracy_score` for this prediction.\n",
    "- Try improving upon the `accuracy_score` using different regularization techniques."
   ]
  },
  {
   "cell_type": "code",
   "execution_count": 3,
   "metadata": {},
   "outputs": [
    {
     "name": "stdout",
     "output_type": "stream",
     "text": [
      "r2 for linear regression is: 0.7202581063053639\n"
     ]
    }
   ],
   "source": [
    "# Code starts here\n",
    "# Split into feature and target\n",
    "#train.drop('Id',axis=1,inplace=True)\n",
    "x = train.drop('Price', axis=1)\n",
    "y = train['Price']\n",
    "x_train,x_val,y_train,y_val = train_test_split(x,y,test_size = 0.1, random_state = 8)\n",
    "\n",
    "regressor = LinearRegression()\n",
    "regressor.fit(x_train,y_train)\n",
    "y_pred = regressor.predict(x_val)\n",
    "\n",
    "r2 = r2_score(y_val,y_pred)\n",
    "print(\"r2 for linear regression is:\",r2)\n",
    "\n",
    "# Code ends here."
   ]
  },
  {
   "cell_type": "code",
   "execution_count": 4,
   "metadata": {},
   "outputs": [
    {
     "name": "stdout",
     "output_type": "stream",
     "text": [
      "0.7202576425557382\n"
     ]
    }
   ],
   "source": [
    "# instantiate lasso model\n",
    "lasso = Lasso()\n",
    "\n",
    "# fit and predict\n",
    "lasso.fit(x_train,y_train)\n",
    "lasso_pred = lasso.predict(x_val)\n",
    "\n",
    "#print(lasso_pred)\n",
    "r2_lasso = r2_score(y_val,lasso_pred)\n",
    "print(r2_lasso)"
   ]
  },
  {
   "cell_type": "code",
   "execution_count": 5,
   "metadata": {},
   "outputs": [
    {
     "name": "stdout",
     "output_type": "stream",
     "text": [
      "0.7201192177706333\n"
     ]
    }
   ],
   "source": [
    "# instantiate ridge model\n",
    "ridge = Ridge()\n",
    "\n",
    "# fit and predict\n",
    "ridge.fit(x_train,y_train)\n",
    "ridge_pred = ridge.predict(x_val)\n",
    "\n",
    "#print(ridge_pred)\n",
    "r2_ridge = r2_score(y_val,ridge_pred)\n",
    "print(r2_ridge)"
   ]
  },
  {
   "cell_type": "code",
   "execution_count": 6,
   "metadata": {},
   "outputs": [
    {
     "name": "stdout",
     "output_type": "stream",
     "text": [
      "0.7832482039057346\n"
     ]
    }
   ],
   "source": [
    "# make pipeline for second degree polynomialfeatures\n",
    "polynomial_model = make_pipeline(PolynomialFeatures(2), LinearRegression())\n",
    "\n",
    "# Fit the model on training set\n",
    "polynomial_model.fit(x_train,y_train)\n",
    "\n",
    "# predict the model performance\n",
    "y_pred_poly = polynomial_model.predict(x_val)\n",
    "#print(y_pred)\n",
    "\n",
    "r2_poly = r2_score(y_val, y_pred_poly)\n",
    "print(r2_poly)"
   ]
  },
  {
   "cell_type": "markdown",
   "metadata": {},
   "source": [
    "### Prediction on the test data and creating the sample submission file.\n",
    "\n",
    "- Load the test data and store the `Id` column in a separate variable.\n",
    "- Perform the same operations on the test data that you have performed on the train data.\n",
    "- Create the submission file as a `csv` file consisting of the `Id` column from the test data and your prediction as the second column."
   ]
  },
  {
   "cell_type": "code",
   "execution_count": 9,
   "metadata": {},
   "outputs": [
    {
     "name": "stdout",
     "output_type": "stream",
     "text": [
      "(2049, 16)\n"
     ]
    }
   ],
   "source": [
    "# Code starts here\n",
    "test = pd.read_csv('test.csv')\n",
    "print(test.shape)\n",
    "Id = test['Id']\n",
    "# Applying the same transformation on test data\n",
    "#test.drop('Id',axis=1,inplace=True)\n",
    "\n",
    "# Predict on the test data using the best model\n",
    "y_pred_test = polynomial_model.predict(test)\n",
    "\n",
    "# Create a sample submission file\n",
    "final_submission = pd.DataFrame({'Id':Id,'Price':y_pred_test})\n",
    "final_submission = final_submission.astype(int)\n",
    "# Convert the sample submission file into a csv file\n",
    "final_submission.to_csv('final_submission.csv',index=False)\n",
    "\n",
    "# Code ends here."
   ]
  },
  {
   "cell_type": "code",
   "execution_count": null,
   "metadata": {},
   "outputs": [],
   "source": []
  }
 ],
 "metadata": {
  "kernelspec": {
   "display_name": "Python 3",
   "language": "python",
   "name": "python3"
  },
  "language_info": {
   "codemirror_mode": {
    "name": "ipython",
    "version": 3
   },
   "file_extension": ".py",
   "mimetype": "text/x-python",
   "name": "python",
   "nbconvert_exporter": "python",
   "pygments_lexer": "ipython3",
   "version": "3.8.5"
  }
 },
 "nbformat": 4,
 "nbformat_minor": 2
}
